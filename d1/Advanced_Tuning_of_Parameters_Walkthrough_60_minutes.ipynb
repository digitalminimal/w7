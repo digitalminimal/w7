{
  "nbformat": 4,
  "nbformat_minor": 0,
  "metadata": {
    "colab": {
      "name": "Advanced Tuning of Parameters Walkthrough 60 minutes.ipynb",
      "provenance": [],
      "authorship_tag": "ABX9TyOt+/cNt2xoqTMjHRk8/B6I",
      "include_colab_link": true
    },
    "kernelspec": {
      "name": "python3",
      "display_name": "Python 3"
    },
    "language_info": {
      "name": "python"
    }
  },
  "cells": [
    {
      "cell_type": "markdown",
      "metadata": {
        "id": "view-in-github",
        "colab_type": "text"
      },
      "source": [
        "<a href=\"https://colab.research.google.com/github/digitalminimal/w7/blob/main/d1/Advanced_Tuning_of_Parameters_Walkthrough_60_minutes.ipynb\" target=\"_parent\"><img src=\"https://colab.research.google.com/assets/colab-badge.svg\" alt=\"Open In Colab\"/></a>"
      ]
    },
    {
      "cell_type": "code",
      "metadata": {
        "id": "1qZ6ObblZCsN"
      },
      "source": [
        "from sklearn.datasets import load_boston\n",
        "from sklearn.model_selection import train_test_split\n",
        "data = load_boston()\n",
        "X_train, X_test, y_train, y_test = train_test_split(data['data'], data['target'])"
      ],
      "execution_count": 1,
      "outputs": []
    },
    {
      "cell_type": "code",
      "metadata": {
        "id": "cxT6Xg00ZX4p"
      },
      "source": [
        "from sklearn.preprocessing import StandardScaler, RobustScaler, QuantileTransformer\n",
        "from sklearn.feature_selection import SelectKBest, f_regression\n",
        "from sklearn.decomposition import PCA\n",
        "from sklearn.linear_model import Ridge"
      ],
      "execution_count": 2,
      "outputs": []
    },
    {
      "cell_type": "code",
      "metadata": {
        "id": "kIw8R4_SZa87"
      },
      "source": [
        "scaler = StandardScaler()\n",
        "pca = PCA()\n",
        "ridge = Ridge()"
      ],
      "execution_count": 3,
      "outputs": []
    },
    {
      "cell_type": "code",
      "metadata": {
        "colab": {
          "base_uri": "https://localhost:8080/"
        },
        "id": "SOVrhTHDZdtz",
        "outputId": "0359a8fb-5c6e-4732-d6ce-6c40d8fe2b79"
      },
      "source": [
        "X_train = scaler.fit_transform(X_train)\n",
        "X_train = pca.fit_transform(X_train)\n",
        "ridge.fit(X_train, y_train)"
      ],
      "execution_count": 4,
      "outputs": [
        {
          "output_type": "execute_result",
          "data": {
            "text/plain": [
              "Ridge(alpha=1.0, copy_X=True, fit_intercept=True, max_iter=None,\n",
              "      normalize=False, random_state=None, solver='auto', tol=0.001)"
            ]
          },
          "metadata": {},
          "execution_count": 4
        }
      ]
    },
    {
      "cell_type": "code",
      "metadata": {
        "id": "U9hIWqW6ZgPn"
      },
      "source": [
        "from sklearn.pipeline import Pipeline\n",
        "pipe = Pipeline([\n",
        "        ('scaler', StandardScaler()),\n",
        "        ('reduce_dim', PCA()),\n",
        "        ('regressor', Ridge())\n",
        "        ])"
      ],
      "execution_count": 5,
      "outputs": []
    },
    {
      "cell_type": "code",
      "metadata": {
        "colab": {
          "base_uri": "https://localhost:8080/"
        },
        "id": "6zM762U6Ziif",
        "outputId": "5eb7130c-e393-4358-a4b7-8657c29bdb1f"
      },
      "source": [
        "pipe = pipe.fit(X_train, y_train)\n",
        "print('Testing score: ', pipe.score(X_test, y_test))"
      ],
      "execution_count": 6,
      "outputs": [
        {
          "output_type": "stream",
          "name": "stdout",
          "text": [
            "Testing score:  -7971.935586083686\n"
          ]
        }
      ]
    },
    {
      "cell_type": "code",
      "metadata": {
        "colab": {
          "base_uri": "https://localhost:8080/"
        },
        "id": "vowGF3AYZmdg",
        "outputId": "4e81360e-9d33-42de-f2f0-9245d6bc009f"
      },
      "source": [
        "print(pipe.steps[1][1].explained_variance_)"
      ],
      "execution_count": 7,
      "outputs": [
        {
          "output_type": "stream",
          "name": "stdout",
          "text": [
            "[1.0026455 1.0026455 1.0026455 1.0026455 1.0026455 1.0026455 1.0026455\n",
            " 1.0026455 1.0026455 1.0026455 1.0026455 1.0026455 1.0026455]\n"
          ]
        }
      ]
    },
    {
      "cell_type": "code",
      "metadata": {
        "id": "vL30Mhj7Zo3s"
      },
      "source": [
        "import numpy as np\n",
        "n_features_to_test = np.arange(1, 11)"
      ],
      "execution_count": 8,
      "outputs": []
    },
    {
      "cell_type": "code",
      "metadata": {
        "id": "ZrK_G_MBZq1l"
      },
      "source": [
        "alpha_to_test = 2.0**np.arange(-6, +6)"
      ],
      "execution_count": 9,
      "outputs": []
    },
    {
      "cell_type": "code",
      "metadata": {
        "id": "6oWGny4rZsr_"
      },
      "source": [
        "params = {'reduce_dim__n_components': n_features_to_test,\\\n",
        "              'regressor__alpha': alpha_to_test}"
      ],
      "execution_count": 10,
      "outputs": []
    },
    {
      "cell_type": "code",
      "metadata": {
        "colab": {
          "base_uri": "https://localhost:8080/"
        },
        "id": "vfCD7if-Zug6",
        "outputId": "45207de4-6602-40cb-b725-315320e51896"
      },
      "source": [
        "from sklearn.model_selection import GridSearchCV\n",
        "gridsearch = GridSearchCV(pipe, params, verbose=1).fit(X_train, y_train)\n",
        "print('Final score is: ', gridsearch.score(X_test, y_test))"
      ],
      "execution_count": 11,
      "outputs": [
        {
          "output_type": "stream",
          "name": "stdout",
          "text": [
            "Fitting 5 folds for each of 120 candidates, totalling 600 fits\n"
          ]
        },
        {
          "output_type": "stream",
          "name": "stderr",
          "text": [
            "[Parallel(n_jobs=1)]: Using backend SequentialBackend with 1 concurrent workers.\n"
          ]
        },
        {
          "output_type": "stream",
          "name": "stdout",
          "text": [
            "Final score is:  -19243.091119628956\n"
          ]
        },
        {
          "output_type": "stream",
          "name": "stderr",
          "text": [
            "[Parallel(n_jobs=1)]: Done 600 out of 600 | elapsed:    4.2s finished\n"
          ]
        }
      ]
    },
    {
      "cell_type": "code",
      "metadata": {
        "colab": {
          "base_uri": "https://localhost:8080/"
        },
        "id": "ZQYfDjmEZxF_",
        "outputId": "2e82f85e-beff-4457-83d3-a289653bd60d"
      },
      "source": [
        "gridsearch.best_params_\n"
      ],
      "execution_count": 12,
      "outputs": [
        {
          "output_type": "execute_result",
          "data": {
            "text/plain": [
              "{'reduce_dim__n_components': 10, 'regressor__alpha': 0.015625}"
            ]
          },
          "metadata": {},
          "execution_count": 12
        }
      ]
    },
    {
      "cell_type": "code",
      "metadata": {
        "id": "Y3cnKh9oZzoH"
      },
      "source": [
        "scalers_to_test = [StandardScaler(), RobustScaler(), QuantileTransformer()]"
      ],
      "execution_count": 13,
      "outputs": []
    },
    {
      "cell_type": "code",
      "metadata": {
        "id": "Wfuj8CmuZ1oQ"
      },
      "source": [
        "params = {'scaler': scalers_to_test,\n",
        "        'reduce_dim__n_components': n_features_to_test,\\\n",
        "        'regressor__alpha': alpha_to_test}"
      ],
      "execution_count": 14,
      "outputs": []
    },
    {
      "cell_type": "code",
      "metadata": {
        "id": "wM4ipKmWZ3rJ"
      },
      "source": [
        "params = [\n",
        "        {'scaler': scalers_to_test,\n",
        "         'reduce_dim': [PCA()],\n",
        "         'reduce_dim__n_components': n_features_to_test,\\\n",
        "         'regressor__alpha': alpha_to_test},\n",
        "\n",
        "        {'scaler': scalers_to_test,\n",
        "         'reduce_dim': [SelectKBest(f_regression)],\n",
        "         'reduce_dim__k': n_features_to_test,\\\n",
        "         'regressor__alpha': alpha_to_test}\n",
        "        ]"
      ],
      "execution_count": 15,
      "outputs": []
    },
    {
      "cell_type": "code",
      "metadata": {
        "id": "mmN5wIEDZ6wW"
      },
      "source": [
        "gridsearch = GridSearchCV(pipe, params, verbose=1).fit(X_train, y_train)\n",
        "print('Final score is: ', gridsearch.score(X_test, y_test))"
      ],
      "execution_count": null,
      "outputs": []
    },
    {
      "cell_type": "code",
      "metadata": {
        "colab": {
          "base_uri": "https://localhost:8080/"
        },
        "id": "xiCjHZDFZ9Z5",
        "outputId": "735fb2f2-aeb9-459f-d3c8-05da3bf8125b"
      },
      "source": [
        "gridsearch.best_params_\n"
      ],
      "execution_count": 17,
      "outputs": [
        {
          "output_type": "execute_result",
          "data": {
            "text/plain": [
              "{'reduce_dim': SelectKBest(k=10, score_func=<function f_regression at 0x7f093c239d40>),\n",
              " 'reduce_dim__k': 10,\n",
              " 'regressor__alpha': 8.0,\n",
              " 'scaler': StandardScaler(copy=True, with_mean=True, with_std=True)}"
            ]
          },
          "metadata": {},
          "execution_count": 17
        }
      ]
    }
  ]
}