{
  "nbformat": 4,
  "nbformat_minor": 0,
  "metadata": {
    "colab": {
      "name": "Pickle and Joblib.ipynb",
      "provenance": [],
      "collapsed_sections": [],
      "authorship_tag": "ABX9TyM9MmKaNVSf2Bm11eGjo3Ne",
      "include_colab_link": true
    },
    "kernelspec": {
      "name": "python3",
      "display_name": "Python 3"
    },
    "language_info": {
      "name": "python"
    }
  },
  "cells": [
    {
      "cell_type": "markdown",
      "metadata": {
        "id": "view-in-github",
        "colab_type": "text"
      },
      "source": [
        "<a href=\"https://colab.research.google.com/github/digitalminimal/w7/blob/main/d1/Pickle_and_Joblib.ipynb\" target=\"_parent\"><img src=\"https://colab.research.google.com/assets/colab-badge.svg\" alt=\"Open In Colab\"/></a>"
      ]
    },
    {
      "cell_type": "code",
      "metadata": {
        "id": "Nj1AT-GY2JSb"
      },
      "source": [
        "import pickle\n",
        "\n",
        "#save pickle\n",
        "mylist = ['a', 'b', 'c', 'd']\n",
        "with open('datafile.txt', 'wb') as fh:\n",
        "   pickle.dump(mylist, fh)"
      ],
      "execution_count": 1,
      "outputs": []
    },
    {
      "cell_type": "code",
      "metadata": {
        "colab": {
          "base_uri": "https://localhost:8080/"
        },
        "id": "LHGsjaAi2m6N",
        "outputId": "434bbe34-c1b8-4167-ee7e-b395a44c9bbe"
      },
      "source": [
        "#unpack the pickle\n",
        "import pickle\n",
        "pickle_off = open (\"datafile.txt\", \"rb\")\n",
        "emp = pickle.load(pickle_off)\n",
        "print(emp)"
      ],
      "execution_count": 2,
      "outputs": [
        {
          "output_type": "stream",
          "name": "stdout",
          "text": [
            "['a', 'b', 'c', 'd']\n"
          ]
        }
      ]
    },
    {
      "cell_type": "code",
      "metadata": {
        "id": "Fj3oiVtN44WI"
      },
      "source": [
        "from tempfile import mkdtemp\n",
        "savedir = mkdtemp()\n",
        "import os\n",
        "filename = os.path.join(savedir, 'test.joblib')\n",
        "\n",
        "\n",
        "import numpy as np\n"
      ],
      "execution_count": 3,
      "outputs": []
    },
    {
      "cell_type": "code",
      "metadata": {
        "colab": {
          "base_uri": "https://localhost:8080/"
        },
        "id": "eebISMKg49_w",
        "outputId": "92ac0a64-262e-4700-dfbd-ba7c161f6ea0"
      },
      "source": [
        "import numpy as np\n",
        "to_persist = [('a', [1, 2, 3]), ('b', np.arange(10))]\n",
        "import joblib\n",
        "joblib.dump(to_persist, filename)  \n"
      ],
      "execution_count": 4,
      "outputs": [
        {
          "output_type": "execute_result",
          "data": {
            "text/plain": [
              "['/tmp/tmpjlmk07qx/test.joblib']"
            ]
          },
          "metadata": {},
          "execution_count": 4
        }
      ]
    },
    {
      "cell_type": "code",
      "metadata": {
        "colab": {
          "base_uri": "https://localhost:8080/"
        },
        "id": "LnfImQhu5ABz",
        "outputId": "6a29a03d-af10-4517-caca-ad93eb635787"
      },
      "source": [
        "joblib.load(filename)\n"
      ],
      "execution_count": 5,
      "outputs": [
        {
          "output_type": "execute_result",
          "data": {
            "text/plain": [
              "[('a', [1, 2, 3]), ('b', array([0, 1, 2, 3, 4, 5, 6, 7, 8, 9]))]"
            ]
          },
          "metadata": {},
          "execution_count": 5
        }
      ]
    },
    {
      "cell_type": "code",
      "metadata": {
        "id": "kdFE5ZRT5CNR"
      },
      "source": [
        "with open(filename, 'wb') as fo:  # doctest: +ELLIPSIS\n",
        "    joblib.dump(to_persist, fo)\n",
        "with open(filename, 'rb') as fo:  # doctest: +ELLIPSIS\n",
        "    joblib.load(fo)\n"
      ],
      "execution_count": 6,
      "outputs": []
    },
    {
      "cell_type": "code",
      "metadata": {
        "colab": {
          "base_uri": "https://localhost:8080/"
        },
        "id": "9V7Ftagm5GCD",
        "outputId": "0cc6989d-fe62-4ec3-b796-72adf02610a2"
      },
      "source": [
        "joblib.dump(to_persist, filename + '.compressed', compress=True)  # doctest: +ELLIPSIS\n"
      ],
      "execution_count": 7,
      "outputs": [
        {
          "output_type": "execute_result",
          "data": {
            "text/plain": [
              "['/tmp/tmpjlmk07qx/test.joblib.compressed']"
            ]
          },
          "metadata": {},
          "execution_count": 7
        }
      ]
    },
    {
      "cell_type": "code",
      "metadata": {
        "colab": {
          "base_uri": "https://localhost:8080/"
        },
        "id": "4DlIE1yL5IKT",
        "outputId": "51c63d01-dbe7-489d-dd6c-ed56c7120e80"
      },
      "source": [
        "joblib.dump(to_persist, filename + '.z')  # doctest: +ELLIPSIS\n"
      ],
      "execution_count": 8,
      "outputs": [
        {
          "output_type": "execute_result",
          "data": {
            "text/plain": [
              "['/tmp/tmpjlmk07qx/test.joblib.z']"
            ]
          },
          "metadata": {},
          "execution_count": 8
        }
      ]
    },
    {
      "cell_type": "code",
      "metadata": {
        "id": "2vKYU9d45La9"
      },
      "source": [
        "# Dumping in a gzip.GzipFile object using a compression level of 3.\n",
        "import gzip\n",
        "with gzip.GzipFile(filename + '.gz', 'wb', compresslevel=3) as fo:  # doctest: +ELLIPSIS\n",
        "    joblib.dump(to_persist, fo)\n",
        "with gzip.GzipFile(filename + '.gz', 'rb') as fo:  # doctest: +ELLIPSIS\n",
        "    joblib.load(fo)\n"
      ],
      "execution_count": 9,
      "outputs": []
    },
    {
      "cell_type": "code",
      "metadata": {
        "colab": {
          "base_uri": "https://localhost:8080/"
        },
        "id": "iUFjutBu5ORl",
        "outputId": "8313426f-a071-408d-eeda-7eea31640434"
      },
      "source": [
        "!pip install lz4\n",
        "joblib.dump(to_persist, filename + '.lz4')  # doctest: +ELLIPSIS\n",
        "\n",
        "joblib.load(filename + '.lz4')\n"
      ],
      "execution_count": 10,
      "outputs": [
        {
          "output_type": "stream",
          "name": "stdout",
          "text": [
            "Requirement already satisfied: lz4 in /usr/local/lib/python3.7/dist-packages (3.1.3)\n"
          ]
        },
        {
          "output_type": "execute_result",
          "data": {
            "text/plain": [
              "[('a', [1, 2, 3]), ('b', array([0, 1, 2, 3, 4, 5, 6, 7, 8, 9]))]"
            ]
          },
          "metadata": {},
          "execution_count": 10
        }
      ]
    }
  ]
}