{
  "nbformat": 4,
  "nbformat_minor": 0,
  "metadata": {
    "kernelspec": {
      "display_name": "Python 3",
      "language": "python",
      "name": "python3"
    },
    "language_info": {
      "codemirror_mode": {
        "name": "ipython",
        "version": 3
      },
      "file_extension": ".py",
      "mimetype": "text/x-python",
      "name": "python",
      "nbconvert_exporter": "python",
      "pygments_lexer": "ipython3",
      "version": "3.8.5"
    },
    "toc": {
      "base_numbering": 1,
      "nav_menu": {},
      "number_sections": true,
      "sideBar": true,
      "skip_h1_title": false,
      "title_cell": "Table of Contents",
      "title_sidebar": "Contents",
      "toc_cell": false,
      "toc_position": {},
      "toc_section_display": true,
      "toc_window_display": false
    },
    "varInspector": {
      "cols": {
        "lenName": 16,
        "lenType": 16,
        "lenVar": 40
      },
      "kernels_config": {
        "python": {
          "delete_cmd_postfix": "",
          "delete_cmd_prefix": "del ",
          "library": "var_list.py",
          "varRefreshCmd": "print(var_dic_list())"
        },
        "r": {
          "delete_cmd_postfix": ") ",
          "delete_cmd_prefix": "rm(",
          "library": "var_list.r",
          "varRefreshCmd": "cat(var_dic_list()) "
        }
      },
      "types_to_exclude": [
        "module",
        "function",
        "builtin_function_or_method",
        "instance",
        "_Feature"
      ],
      "window_display": false
    },
    "colab": {
      "name": "advanced_tuning_of_parameters_exercise.ipynb",
      "provenance": []
    }
  },
  "cells": [
    {
      "cell_type": "markdown",
      "metadata": {
        "id": "zqlLPtdrqm7r"
      },
      "source": [
        "## Advanced tuning of parameters\n",
        "\n",
        "In this tutorial, we will apply the skills from previous tutorials and build a classifier using the `Pipelines` and `FeatureUnion` functions from sklearn."
      ]
    },
    {
      "cell_type": "code",
      "metadata": {
        "ExecuteTime": {
          "end_time": "2020-04-27T12:42:41.683438Z",
          "start_time": "2020-04-27T12:42:40.277500Z"
        },
        "id": "5c0p8MSLqm7u"
      },
      "source": [
        "# IMPORT PACKAGES\n",
        "import numpy as np\n",
        "import pandas as pd\n",
        "from sklearn.model_selection import train_test_split\n",
        "\n",
        "from sklearn.preprocessing import StandardScaler, RobustScaler, QuantileTransformer\n",
        "from sklearn.feature_selection import SelectKBest, f_regression\n",
        "from sklearn.decomposition import PCA\n",
        "from sklearn.linear_model import Ridge\n",
        "from sklearn.pipeline import Pipeline, FeatureUnion\n",
        "from sklearn.model_selection import GridSearchCV\n",
        "\n",
        "\n",
        "from sklearn.ensemble import RandomForestClassifier"
      ],
      "execution_count": 115,
      "outputs": []
    },
    {
      "cell_type": "code",
      "metadata": {
        "id": "XA_KfGabqm7v"
      },
      "source": [
        ""
      ],
      "execution_count": 115,
      "outputs": []
    },
    {
      "cell_type": "markdown",
      "metadata": {
        "id": "Uy6bmVsxqm7v"
      },
      "source": [
        "### Data\n",
        "\n",
        "We will be building a binary classifier that predicts wheter a person has diabetes or not, using information on the patient's health. \n",
        "\n",
        "The data can be found [here](https://drive.google.com/file/d/1TvCKlmH3Z32XAKk-VUcZyYu95Ccyw3PO/view?usp=sharing). \n"
      ]
    },
    {
      "cell_type": "code",
      "metadata": {
        "ExecuteTime": {
          "end_time": "2020-04-27T12:42:42.514840Z",
          "start_time": "2020-04-27T12:42:42.076342Z"
        },
        "id": "xEpOUWtYqm7v"
      },
      "source": [
        "col_names = ['preg', 'plas', 'pres', 'skin', 'test', 'mass', 'pedi', 'age']\n",
        "# col_names = ['preg', 'plas', 'pres', 'skin', 'test', 'mass', 'pedi', 'age', 'class']"
      ],
      "execution_count": 116,
      "outputs": []
    },
    {
      "cell_type": "code",
      "metadata": {
        "id": "IMb2W9seqm7v"
      },
      "source": [
        "df=pd.read_csv(\"pima-indians-diabetes.csv\", sep=';')"
      ],
      "execution_count": 117,
      "outputs": []
    },
    {
      "cell_type": "code",
      "metadata": {
        "id": "7qVYv0f9EzXN",
        "outputId": "61a86df7-9424-48f0-90c7-043631950abf",
        "colab": {
          "base_uri": "https://localhost:8080/"
        }
      },
      "source": [
        "df.info()"
      ],
      "execution_count": 118,
      "outputs": [
        {
          "output_type": "stream",
          "name": "stdout",
          "text": [
            "<class 'pandas.core.frame.DataFrame'>\n",
            "RangeIndex: 768 entries, 0 to 767\n",
            "Data columns (total 9 columns):\n",
            " #   Column  Non-Null Count  Dtype  \n",
            "---  ------  --------------  -----  \n",
            " 0   preg    768 non-null    int64  \n",
            " 1   plas    768 non-null    int64  \n",
            " 2   pres    768 non-null    int64  \n",
            " 3   skin    768 non-null    int64  \n",
            " 4   test    768 non-null    int64  \n",
            " 5   mass    768 non-null    float64\n",
            " 6   pedi    768 non-null    float64\n",
            " 7   age     768 non-null    int64  \n",
            " 8   class   768 non-null    int64  \n",
            "dtypes: float64(2), int64(7)\n",
            "memory usage: 54.1 KB\n"
          ]
        }
      ]
    },
    {
      "cell_type": "markdown",
      "metadata": {
        "id": "0n9Gfivfqm7v"
      },
      "source": [
        "### Task\n",
        "\n",
        "Build classifier which predicts the target variable `class` using rest of the attributes. The model should be fitted using pipeline that contains:\n",
        "- PCA method √\n",
        "- SelectKBest method √\n",
        "- FeatureUnion √\n",
        "- Random Forest √\n",
        "\n",
        "Choose the best set of parameters using `Pipeline` and grid_search.\n",
        "\n",
        "> #### Note\n",
        "> **In this exercise, we are focusing on the implementation of pipeline. Since we have only 9 columns in our dataset the PCA is probably not the best technique to use during the data preparation from a methodology point of view.**"
      ]
    },
    {
      "cell_type": "code",
      "metadata": {
        "id": "43h_e9KCqm7w"
      },
      "source": [
        "#split features from target, Class is what we want to predict\n",
        "X = df[col_names]\n",
        "y = df['class']\n",
        "X_train, X_test, y_train, y_test = train_test_split(X, y)\n",
        "\n",
        "# no scaling for no w\n",
        "# scaler = StandardScaler() \n",
        "\n",
        "#What model do we want to use ? \n",
        "# We will initialize the classifier\n",
        "RandomFo = RandomForestClassifier()\n",
        "\n",
        "# Do we want dimentionality reducation ? \n",
        "# This dataset is way too high-dimensional. Better do PCA:\n",
        "pca = PCA()  # WHY DOES THIS BREAK ?#n_components=2)\n",
        "\n",
        "# Maybe some of the original features were good, too?\n",
        "selection = SelectKBest(k=3)\n"
      ],
      "execution_count": 121,
      "outputs": []
    },
    {
      "cell_type": "code",
      "metadata": {
        "ExecuteTime": {
          "end_time": "2020-03-19T08:47:53.792413Z",
          "start_time": "2020-03-19T08:47:53.786003Z"
        },
        "id": "9Aemt6axqm7w",
        "outputId": "90db71de-bd32-41fc-c9ff-86fba6e0c867",
        "colab": {
          "base_uri": "https://localhost:8080/"
        }
      },
      "source": [
        "# X_train = scaler.fit_transform(X_train)\n",
        "X_train = pca.fit_transform(X_train)\n",
        "RandomFo.fit(X_train, y_train)\n",
        "\n",
        "from sklearn.pipeline import Pipeline\n",
        "pipe = Pipeline([\n",
        "        (#'scaler', StandardScaler()),\n",
        "        'reduce_dim', PCA()),\n",
        "        ('regressor', RandomForestClassifier())\n",
        "        ])\n",
        "\n",
        "pipe = pipe.fit(X_train, y_train)\n",
        "print('Testing score: ', pipe.score(X_test, y_test))\n",
        "\n"
      ],
      "execution_count": 122,
      "outputs": [
        {
          "output_type": "stream",
          "name": "stdout",
          "text": [
            "Testing score:  0.59375\n"
          ]
        }
      ]
    },
    {
      "cell_type": "code",
      "metadata": {
        "id": "mNkmd-ovL1s_",
        "outputId": "fffa7a1b-d9f2-45b6-fd73-94a8bd9d0d8d",
        "colab": {
          "base_uri": "https://localhost:8080/"
        }
      },
      "source": [
        "\n",
        "#Feature union is where we run the process in parallel \n",
        "# Build an transformer from PCA and Univariate selection:\n",
        "combined_features = FeatureUnion([(\"pca\", pca), (\"univ_select\", selection)]) # takes both PCA and best features \n",
        "\n",
        "\n",
        "# create our pipeline from FeatureUnion \n",
        "#pass the features + classifie\n",
        "pipeline = Pipeline([(\"featuresYO\", combined_features), (\"RandomFo\", RandomFo)])\n",
        "\n",
        "n_features_to_test = np.arange(1, 8)\n",
        "alpha_to_test = 2.0**np.arange(-6, +6)\n",
        "# # set up our parameters grid\n",
        "param_grid = {\"featuresYO__pca__n_components\": [1, 2, 3],\n",
        "                    \"featuresYO__univ_select__k\": [1, 2, 3], \n",
        "                    'RandomFo__n_estimators': [10, 100],\n",
        "                    'RandomFo__max_depth' : [4,5,6,7,8],\n",
        "                    'RandomFo__max_features': ['auto', 'sqrt', 'log2']\n",
        "                     }\n",
        "\n",
        "# create a Grid Search object\n",
        "grid_search = GridSearchCV(pipeline, param_grid, verbose=10, refit=True)    \n",
        "\n",
        "\n",
        "# fit the model and tune parameters\n",
        "grid_search.fit(X_train, y_train)\n",
        "\n",
        "\n",
        "\n",
        "print(pipeline.steps[1][1].feature_importances_)\n",
        "print('Testing score: ', pipeline.score(X_test, y_test))\n",
        "\n",
        "\n"
      ],
      "execution_count": 123,
      "outputs": [
        {
          "output_type": "stream",
          "name": "stdout",
          "text": [
            "[CV]  RandomFo__max_depth=8, RandomFo__max_features=sqrt, RandomFo__n_estimators=100, featuresYO__pca__n_components=1, featuresYO__univ_select__k=1, score=0.739, total=   0.2s\n",
            "[CV] RandomFo__max_depth=8, RandomFo__max_features=sqrt, RandomFo__n_estimators=100, featuresYO__pca__n_components=1, featuresYO__univ_select__k=1 \n",
            "[CV]  RandomFo__max_depth=8, RandomFo__max_features=sqrt, RandomFo__n_estimators=100, featuresYO__pca__n_components=1, featuresYO__univ_select__k=1, score=0.774, total=   0.1s\n",
            "[CV] RandomFo__max_depth=8, RandomFo__max_features=sqrt, RandomFo__n_estimators=100, featuresYO__pca__n_components=1, featuresYO__univ_select__k=1 \n",
            "[CV]  RandomFo__max_depth=8, RandomFo__max_features=sqrt, RandomFo__n_estimators=100, featuresYO__pca__n_components=1, featuresYO__univ_select__k=1, score=0.704, total=   0.1s\n",
            "[CV] RandomFo__max_depth=8, RandomFo__max_features=sqrt, RandomFo__n_estimators=100, featuresYO__pca__n_components=1, featuresYO__univ_select__k=2 \n",
            "[CV]  RandomFo__max_depth=8, RandomFo__max_features=sqrt, RandomFo__n_estimators=100, featuresYO__pca__n_components=1, featuresYO__univ_select__k=2, score=0.724, total=   0.1s\n",
            "[CV] RandomFo__max_depth=8, RandomFo__max_features=sqrt, RandomFo__n_estimators=100, featuresYO__pca__n_components=1, featuresYO__univ_select__k=2 \n",
            "[CV]  RandomFo__max_depth=8, RandomFo__max_features=sqrt, RandomFo__n_estimators=100, featuresYO__pca__n_components=1, featuresYO__univ_select__k=2, score=0.739, total=   0.1s\n",
            "[CV] RandomFo__max_depth=8, RandomFo__max_features=sqrt, RandomFo__n_estimators=100, featuresYO__pca__n_components=1, featuresYO__univ_select__k=2 \n",
            "[CV]  RandomFo__max_depth=8, RandomFo__max_features=sqrt, RandomFo__n_estimators=100, featuresYO__pca__n_components=1, featuresYO__univ_select__k=2, score=0.765, total=   0.1s\n",
            "[CV] RandomFo__max_depth=8, RandomFo__max_features=sqrt, RandomFo__n_estimators=100, featuresYO__pca__n_components=1, featuresYO__univ_select__k=2 \n",
            "[CV]  RandomFo__max_depth=8, RandomFo__max_features=sqrt, RandomFo__n_estimators=100, featuresYO__pca__n_components=1, featuresYO__univ_select__k=2, score=0.722, total=   0.1s\n",
            "[CV] RandomFo__max_depth=8, RandomFo__max_features=sqrt, RandomFo__n_estimators=100, featuresYO__pca__n_components=1, featuresYO__univ_select__k=2 \n",
            "[CV]  RandomFo__max_depth=8, RandomFo__max_features=sqrt, RandomFo__n_estimators=100, featuresYO__pca__n_components=1, featuresYO__univ_select__k=2, score=0.739, total=   0.2s\n",
            "[CV] RandomFo__max_depth=8, RandomFo__max_features=sqrt, RandomFo__n_estimators=100, featuresYO__pca__n_components=1, featuresYO__univ_select__k=3 \n",
            "[CV]  RandomFo__max_depth=8, RandomFo__max_features=sqrt, RandomFo__n_estimators=100, featuresYO__pca__n_components=1, featuresYO__univ_select__k=3, score=0.759, total=   0.2s\n",
            "[CV] RandomFo__max_depth=8, RandomFo__max_features=sqrt, RandomFo__n_estimators=100, featuresYO__pca__n_components=1, featuresYO__univ_select__k=3 \n",
            "[CV]  RandomFo__max_depth=8, RandomFo__max_features=sqrt, RandomFo__n_estimators=100, featuresYO__pca__n_components=1, featuresYO__univ_select__k=3, score=0.739, total=   0.2s\n",
            "[CV] RandomFo__max_depth=8, RandomFo__max_features=sqrt, RandomFo__n_estimators=100, featuresYO__pca__n_components=1, featuresYO__univ_select__k=3 \n",
            "[CV]  RandomFo__max_depth=8, RandomFo__max_features=sqrt, RandomFo__n_estimators=100, featuresYO__pca__n_components=1, featuresYO__univ_select__k=3, score=0.713, total=   0.2s\n",
            "[CV] RandomFo__max_depth=8, RandomFo__max_features=sqrt, RandomFo__n_estimators=100, featuresYO__pca__n_components=1, featuresYO__univ_select__k=3 \n",
            "[CV]  RandomFo__max_depth=8, RandomFo__max_features=sqrt, RandomFo__n_estimators=100, featuresYO__pca__n_components=1, featuresYO__univ_select__k=3, score=0.722, total=   0.2s\n",
            "[CV] RandomFo__max_depth=8, RandomFo__max_features=sqrt, RandomFo__n_estimators=100, featuresYO__pca__n_components=1, featuresYO__univ_select__k=3 \n",
            "[CV]  RandomFo__max_depth=8, RandomFo__max_features=sqrt, RandomFo__n_estimators=100, featuresYO__pca__n_components=1, featuresYO__univ_select__k=3, score=0.722, total=   0.2s\n",
            "[CV] RandomFo__max_depth=8, RandomFo__max_features=sqrt, RandomFo__n_estimators=100, featuresYO__pca__n_components=2, featuresYO__univ_select__k=1 \n",
            "[CV]  RandomFo__max_depth=8, RandomFo__max_features=sqrt, RandomFo__n_estimators=100, featuresYO__pca__n_components=2, featuresYO__univ_select__k=1, score=0.724, total=   0.2s\n",
            "[CV] RandomFo__max_depth=8, RandomFo__max_features=sqrt, RandomFo__n_estimators=100, featuresYO__pca__n_components=2, featuresYO__univ_select__k=1 \n",
            "[CV]  RandomFo__max_depth=8, RandomFo__max_features=sqrt, RandomFo__n_estimators=100, featuresYO__pca__n_components=2, featuresYO__univ_select__k=1, score=0.739, total=   0.2s\n",
            "[CV] RandomFo__max_depth=8, RandomFo__max_features=sqrt, RandomFo__n_estimators=100, featuresYO__pca__n_components=2, featuresYO__univ_select__k=1 \n",
            "[CV]  RandomFo__max_depth=8, RandomFo__max_features=sqrt, RandomFo__n_estimators=100, featuresYO__pca__n_components=2, featuresYO__univ_select__k=1, score=0.730, total=   0.1s\n",
            "[CV] RandomFo__max_depth=8, RandomFo__max_features=sqrt, RandomFo__n_estimators=100, featuresYO__pca__n_components=2, featuresYO__univ_select__k=1 \n",
            "[CV]  RandomFo__max_depth=8, RandomFo__max_features=sqrt, RandomFo__n_estimators=100, featuresYO__pca__n_components=2, featuresYO__univ_select__k=1, score=0.774, total=   0.2s\n",
            "[CV] RandomFo__max_depth=8, RandomFo__max_features=sqrt, RandomFo__n_estimators=100, featuresYO__pca__n_components=2, featuresYO__univ_select__k=1 \n",
            "[CV]  RandomFo__max_depth=8, RandomFo__max_features=sqrt, RandomFo__n_estimators=100, featuresYO__pca__n_components=2, featuresYO__univ_select__k=1, score=0.713, total=   0.1s\n",
            "[CV] RandomFo__max_depth=8, RandomFo__max_features=sqrt, RandomFo__n_estimators=100, featuresYO__pca__n_components=2, featuresYO__univ_select__k=2 \n",
            "[CV]  RandomFo__max_depth=8, RandomFo__max_features=sqrt, RandomFo__n_estimators=100, featuresYO__pca__n_components=2, featuresYO__univ_select__k=2, score=0.733, total=   0.2s\n",
            "[CV] RandomFo__max_depth=8, RandomFo__max_features=sqrt, RandomFo__n_estimators=100, featuresYO__pca__n_components=2, featuresYO__univ_select__k=2 \n",
            "[CV]  RandomFo__max_depth=8, RandomFo__max_features=sqrt, RandomFo__n_estimators=100, featuresYO__pca__n_components=2, featuresYO__univ_select__k=2, score=0.783, total=   0.2s\n",
            "[CV] RandomFo__max_depth=8, RandomFo__max_features=sqrt, RandomFo__n_estimators=100, featuresYO__pca__n_components=2, featuresYO__univ_select__k=2 \n",
            "[CV]  RandomFo__max_depth=8, RandomFo__max_features=sqrt, RandomFo__n_estimators=100, featuresYO__pca__n_components=2, featuresYO__univ_select__k=2, score=0.774, total=   0.2s\n",
            "[CV] RandomFo__max_depth=8, RandomFo__max_features=sqrt, RandomFo__n_estimators=100, featuresYO__pca__n_components=2, featuresYO__univ_select__k=2 \n",
            "[CV]  RandomFo__max_depth=8, RandomFo__max_features=sqrt, RandomFo__n_estimators=100, featuresYO__pca__n_components=2, featuresYO__univ_select__k=2, score=0.748, total=   0.2s\n",
            "[CV] RandomFo__max_depth=8, RandomFo__max_features=sqrt, RandomFo__n_estimators=100, featuresYO__pca__n_components=2, featuresYO__univ_select__k=2 \n",
            "[CV]  RandomFo__max_depth=8, RandomFo__max_features=sqrt, RandomFo__n_estimators=100, featuresYO__pca__n_components=2, featuresYO__univ_select__k=2, score=0.696, total=   0.2s\n",
            "[CV] RandomFo__max_depth=8, RandomFo__max_features=sqrt, RandomFo__n_estimators=100, featuresYO__pca__n_components=2, featuresYO__univ_select__k=3 \n",
            "[CV]  RandomFo__max_depth=8, RandomFo__max_features=sqrt, RandomFo__n_estimators=100, featuresYO__pca__n_components=2, featuresYO__univ_select__k=3, score=0.767, total=   0.2s\n",
            "[CV] RandomFo__max_depth=8, RandomFo__max_features=sqrt, RandomFo__n_estimators=100, featuresYO__pca__n_components=2, featuresYO__univ_select__k=3 \n",
            "[CV]  RandomFo__max_depth=8, RandomFo__max_features=sqrt, RandomFo__n_estimators=100, featuresYO__pca__n_components=2, featuresYO__univ_select__k=3, score=0.722, total=   0.2s\n",
            "[CV] RandomFo__max_depth=8, RandomFo__max_features=sqrt, RandomFo__n_estimators=100, featuresYO__pca__n_components=2, featuresYO__univ_select__k=3 \n",
            "[CV]  RandomFo__max_depth=8, RandomFo__max_features=sqrt, RandomFo__n_estimators=100, featuresYO__pca__n_components=2, featuresYO__univ_select__k=3, score=0.757, total=   0.2s\n",
            "[CV] RandomFo__max_depth=8, RandomFo__max_features=sqrt, RandomFo__n_estimators=100, featuresYO__pca__n_components=2, featuresYO__univ_select__k=3 \n",
            "[CV]  RandomFo__max_depth=8, RandomFo__max_features=sqrt, RandomFo__n_estimators=100, featuresYO__pca__n_components=2, featuresYO__univ_select__k=3, score=0.765, total=   0.2s\n",
            "[CV] RandomFo__max_depth=8, RandomFo__max_features=sqrt, RandomFo__n_estimators=100, featuresYO__pca__n_components=2, featuresYO__univ_select__k=3 \n",
            "[CV]  RandomFo__max_depth=8, RandomFo__max_features=sqrt, RandomFo__n_estimators=100, featuresYO__pca__n_components=2, featuresYO__univ_select__k=3, score=0.696, total=   0.2s\n",
            "[CV] RandomFo__max_depth=8, RandomFo__max_features=sqrt, RandomFo__n_estimators=100, featuresYO__pca__n_components=3, featuresYO__univ_select__k=1 \n",
            "[CV]  RandomFo__max_depth=8, RandomFo__max_features=sqrt, RandomFo__n_estimators=100, featuresYO__pca__n_components=3, featuresYO__univ_select__k=1, score=0.767, total=   0.2s\n",
            "[CV] RandomFo__max_depth=8, RandomFo__max_features=sqrt, RandomFo__n_estimators=100, featuresYO__pca__n_components=3, featuresYO__univ_select__k=1 \n",
            "[CV]  RandomFo__max_depth=8, RandomFo__max_features=sqrt, RandomFo__n_estimators=100, featuresYO__pca__n_components=3, featuresYO__univ_select__k=1, score=0.774, total=   0.2s\n",
            "[CV] RandomFo__max_depth=8, RandomFo__max_features=sqrt, RandomFo__n_estimators=100, featuresYO__pca__n_components=3, featuresYO__univ_select__k=1 \n",
            "[CV]  RandomFo__max_depth=8, RandomFo__max_features=sqrt, RandomFo__n_estimators=100, featuresYO__pca__n_components=3, featuresYO__univ_select__k=1, score=0.748, total=   0.2s\n",
            "[CV] RandomFo__max_depth=8, RandomFo__max_features=sqrt, RandomFo__n_estimators=100, featuresYO__pca__n_components=3, featuresYO__univ_select__k=1 \n",
            "[CV]  RandomFo__max_depth=8, RandomFo__max_features=sqrt, RandomFo__n_estimators=100, featuresYO__pca__n_components=3, featuresYO__univ_select__k=1, score=0.800, total=   0.2s\n",
            "[CV] RandomFo__max_depth=8, RandomFo__max_features=sqrt, RandomFo__n_estimators=100, featuresYO__pca__n_components=3, featuresYO__univ_select__k=1 \n",
            "[CV]  RandomFo__max_depth=8, RandomFo__max_features=sqrt, RandomFo__n_estimators=100, featuresYO__pca__n_components=3, featuresYO__univ_select__k=1, score=0.722, total=   0.2s\n",
            "[CV] RandomFo__max_depth=8, RandomFo__max_features=sqrt, RandomFo__n_estimators=100, featuresYO__pca__n_components=3, featuresYO__univ_select__k=2 \n",
            "[CV]  RandomFo__max_depth=8, RandomFo__max_features=sqrt, RandomFo__n_estimators=100, featuresYO__pca__n_components=3, featuresYO__univ_select__k=2, score=0.759, total=   0.2s\n",
            "[CV] RandomFo__max_depth=8, RandomFo__max_features=sqrt, RandomFo__n_estimators=100, featuresYO__pca__n_components=3, featuresYO__univ_select__k=2 \n",
            "[CV]  RandomFo__max_depth=8, RandomFo__max_features=sqrt, RandomFo__n_estimators=100, featuresYO__pca__n_components=3, featuresYO__univ_select__k=2, score=0.774, total=   0.2s\n",
            "[CV] RandomFo__max_depth=8, RandomFo__max_features=sqrt, RandomFo__n_estimators=100, featuresYO__pca__n_components=3, featuresYO__univ_select__k=2 \n",
            "[CV]  RandomFo__max_depth=8, RandomFo__max_features=sqrt, RandomFo__n_estimators=100, featuresYO__pca__n_components=3, featuresYO__univ_select__k=2, score=0.748, total=   0.2s\n",
            "[CV] RandomFo__max_depth=8, RandomFo__max_features=sqrt, RandomFo__n_estimators=100, featuresYO__pca__n_components=3, featuresYO__univ_select__k=2 \n",
            "[CV]  RandomFo__max_depth=8, RandomFo__max_features=sqrt, RandomFo__n_estimators=100, featuresYO__pca__n_components=3, featuresYO__univ_select__k=2, score=0.739, total=   0.2s\n",
            "[CV] RandomFo__max_depth=8, RandomFo__max_features=sqrt, RandomFo__n_estimators=100, featuresYO__pca__n_components=3, featuresYO__univ_select__k=2 \n",
            "[CV]  RandomFo__max_depth=8, RandomFo__max_features=sqrt, RandomFo__n_estimators=100, featuresYO__pca__n_components=3, featuresYO__univ_select__k=2, score=0.722, total=   0.2s\n",
            "[CV] RandomFo__max_depth=8, RandomFo__max_features=sqrt, RandomFo__n_estimators=100, featuresYO__pca__n_components=3, featuresYO__univ_select__k=3 \n",
            "[CV]  RandomFo__max_depth=8, RandomFo__max_features=sqrt, RandomFo__n_estimators=100, featuresYO__pca__n_components=3, featuresYO__univ_select__k=3, score=0.759, total=   0.2s\n",
            "[CV] RandomFo__max_depth=8, RandomFo__max_features=sqrt, RandomFo__n_estimators=100, featuresYO__pca__n_components=3, featuresYO__univ_select__k=3 \n",
            "[CV]  RandomFo__max_depth=8, RandomFo__max_features=sqrt, RandomFo__n_estimators=100, featuresYO__pca__n_components=3, featuresYO__univ_select__k=3, score=0.739, total=   0.2s\n",
            "[CV] RandomFo__max_depth=8, RandomFo__max_features=sqrt, RandomFo__n_estimators=100, featuresYO__pca__n_components=3, featuresYO__univ_select__k=3 \n",
            "[CV]  RandomFo__max_depth=8, RandomFo__max_features=sqrt, RandomFo__n_estimators=100, featuresYO__pca__n_components=3, featuresYO__univ_select__k=3, score=0.765, total=   0.2s\n",
            "[CV] RandomFo__max_depth=8, RandomFo__max_features=sqrt, RandomFo__n_estimators=100, featuresYO__pca__n_components=3, featuresYO__univ_select__k=3 \n",
            "[CV]  RandomFo__max_depth=8, RandomFo__max_features=sqrt, RandomFo__n_estimators=100, featuresYO__pca__n_components=3, featuresYO__univ_select__k=3, score=0.739, total=   0.2s\n",
            "[CV] RandomFo__max_depth=8, RandomFo__max_features=sqrt, RandomFo__n_estimators=100, featuresYO__pca__n_components=3, featuresYO__univ_select__k=3 \n",
            "[CV]  RandomFo__max_depth=8, RandomFo__max_features=sqrt, RandomFo__n_estimators=100, featuresYO__pca__n_components=3, featuresYO__univ_select__k=3, score=0.739, total=   0.2s\n",
            "[CV] RandomFo__max_depth=8, RandomFo__max_features=log2, RandomFo__n_estimators=10, featuresYO__pca__n_components=1, featuresYO__univ_select__k=1 \n",
            "[CV]  RandomFo__max_depth=8, RandomFo__max_features=log2, RandomFo__n_estimators=10, featuresYO__pca__n_components=1, featuresYO__univ_select__k=1, score=0.750, total=   0.0s\n",
            "[CV] RandomFo__max_depth=8, RandomFo__max_features=log2, RandomFo__n_estimators=10, featuresYO__pca__n_components=1, featuresYO__univ_select__k=1 \n",
            "[CV]  RandomFo__max_depth=8, RandomFo__max_features=log2, RandomFo__n_estimators=10, featuresYO__pca__n_components=1, featuresYO__univ_select__k=1, score=0.730, total=   0.0s\n",
            "[CV] RandomFo__max_depth=8, RandomFo__max_features=log2, RandomFo__n_estimators=10, featuresYO__pca__n_components=1, featuresYO__univ_select__k=1 \n",
            "[CV]  RandomFo__max_depth=8, RandomFo__max_features=log2, RandomFo__n_estimators=10, featuresYO__pca__n_components=1, featuresYO__univ_select__k=1, score=0.730, total=   0.0s\n",
            "[CV] RandomFo__max_depth=8, RandomFo__max_features=log2, RandomFo__n_estimators=10, featuresYO__pca__n_components=1, featuresYO__univ_select__k=1 \n",
            "[CV]  RandomFo__max_depth=8, RandomFo__max_features=log2, RandomFo__n_estimators=10, featuresYO__pca__n_components=1, featuresYO__univ_select__k=1, score=0.774, total=   0.0s\n",
            "[CV] RandomFo__max_depth=8, RandomFo__max_features=log2, RandomFo__n_estimators=10, featuresYO__pca__n_components=1, featuresYO__univ_select__k=1 \n",
            "[CV]  RandomFo__max_depth=8, RandomFo__max_features=log2, RandomFo__n_estimators=10, featuresYO__pca__n_components=1, featuresYO__univ_select__k=1, score=0.696, total=   0.0s\n",
            "[CV] RandomFo__max_depth=8, RandomFo__max_features=log2, RandomFo__n_estimators=10, featuresYO__pca__n_components=1, featuresYO__univ_select__k=2 \n",
            "[CV]  RandomFo__max_depth=8, RandomFo__max_features=log2, RandomFo__n_estimators=10, featuresYO__pca__n_components=1, featuresYO__univ_select__k=2, score=0.741, total=   0.0s\n",
            "[CV] RandomFo__max_depth=8, RandomFo__max_features=log2, RandomFo__n_estimators=10, featuresYO__pca__n_components=1, featuresYO__univ_select__k=2 \n",
            "[CV]  RandomFo__max_depth=8, RandomFo__max_features=log2, RandomFo__n_estimators=10, featuresYO__pca__n_components=1, featuresYO__univ_select__k=2, score=0.730, total=   0.0s\n",
            "[CV] RandomFo__max_depth=8, RandomFo__max_features=log2, RandomFo__n_estimators=10, featuresYO__pca__n_components=1, featuresYO__univ_select__k=2 \n",
            "[CV]  RandomFo__max_depth=8, RandomFo__max_features=log2, RandomFo__n_estimators=10, featuresYO__pca__n_components=1, featuresYO__univ_select__k=2, score=0.783, total=   0.0s\n",
            "[CV] RandomFo__max_depth=8, RandomFo__max_features=log2, RandomFo__n_estimators=10, featuresYO__pca__n_components=1, featuresYO__univ_select__k=2 \n",
            "[CV]  RandomFo__max_depth=8, RandomFo__max_features=log2, RandomFo__n_estimators=10, featuresYO__pca__n_components=1, featuresYO__univ_select__k=2, score=0.791, total=   0.0s\n",
            "[CV] RandomFo__max_depth=8, RandomFo__max_features=log2, RandomFo__n_estimators=10, featuresYO__pca__n_components=1, featuresYO__univ_select__k=2 \n",
            "[CV]  RandomFo__max_depth=8, RandomFo__max_features=log2, RandomFo__n_estimators=10, featuresYO__pca__n_components=1, featuresYO__univ_select__k=2, score=0.704, total=   0.0s\n",
            "[CV] RandomFo__max_depth=8, RandomFo__max_features=log2, RandomFo__n_estimators=10, featuresYO__pca__n_components=1, featuresYO__univ_select__k=3 \n",
            "[CV]  RandomFo__max_depth=8, RandomFo__max_features=log2, RandomFo__n_estimators=10, featuresYO__pca__n_components=1, featuresYO__univ_select__k=3, score=0.767, total=   0.0s\n",
            "[CV] RandomFo__max_depth=8, RandomFo__max_features=log2, RandomFo__n_estimators=10, featuresYO__pca__n_components=1, featuresYO__univ_select__k=3 \n",
            "[CV]  RandomFo__max_depth=8, RandomFo__max_features=log2, RandomFo__n_estimators=10, featuresYO__pca__n_components=1, featuresYO__univ_select__k=3, score=0.722, total=   0.0s\n",
            "[CV] RandomFo__max_depth=8, RandomFo__max_features=log2, RandomFo__n_estimators=10, featuresYO__pca__n_components=1, featuresYO__univ_select__k=3 \n",
            "[CV]  RandomFo__max_depth=8, RandomFo__max_features=log2, RandomFo__n_estimators=10, featuresYO__pca__n_components=1, featuresYO__univ_select__k=3, score=0.765, total=   0.0s\n",
            "[CV] RandomFo__max_depth=8, RandomFo__max_features=log2, RandomFo__n_estimators=10, featuresYO__pca__n_components=1, featuresYO__univ_select__k=3 \n",
            "[CV]  RandomFo__max_depth=8, RandomFo__max_features=log2, RandomFo__n_estimators=10, featuresYO__pca__n_components=1, featuresYO__univ_select__k=3, score=0.713, total=   0.0s\n",
            "[CV] RandomFo__max_depth=8, RandomFo__max_features=log2, RandomFo__n_estimators=10, featuresYO__pca__n_components=1, featuresYO__univ_select__k=3 \n",
            "[CV]  RandomFo__max_depth=8, RandomFo__max_features=log2, RandomFo__n_estimators=10, featuresYO__pca__n_components=1, featuresYO__univ_select__k=3, score=0.748, total=   0.0s\n",
            "[CV] RandomFo__max_depth=8, RandomFo__max_features=log2, RandomFo__n_estimators=10, featuresYO__pca__n_components=2, featuresYO__univ_select__k=1 \n",
            "[CV]  RandomFo__max_depth=8, RandomFo__max_features=log2, RandomFo__n_estimators=10, featuresYO__pca__n_components=2, featuresYO__univ_select__k=1, score=0.733, total=   0.0s\n",
            "[CV] RandomFo__max_depth=8, RandomFo__max_features=log2, RandomFo__n_estimators=10, featuresYO__pca__n_components=2, featuresYO__univ_select__k=1 \n",
            "[CV]  RandomFo__max_depth=8, RandomFo__max_features=log2, RandomFo__n_estimators=10, featuresYO__pca__n_components=2, featuresYO__univ_select__k=1, score=0.739, total=   0.0s\n",
            "[CV] RandomFo__max_depth=8, RandomFo__max_features=log2, RandomFo__n_estimators=10, featuresYO__pca__n_components=2, featuresYO__univ_select__k=1 \n",
            "[CV]  RandomFo__max_depth=8, RandomFo__max_features=log2, RandomFo__n_estimators=10, featuresYO__pca__n_components=2, featuresYO__univ_select__k=1, score=0.739, total=   0.0s\n",
            "[CV] RandomFo__max_depth=8, RandomFo__max_features=log2, RandomFo__n_estimators=10, featuresYO__pca__n_components=2, featuresYO__univ_select__k=1 \n",
            "[CV]  RandomFo__max_depth=8, RandomFo__max_features=log2, RandomFo__n_estimators=10, featuresYO__pca__n_components=2, featuresYO__univ_select__k=1, score=0.730, total=   0.0s\n",
            "[CV] RandomFo__max_depth=8, RandomFo__max_features=log2, RandomFo__n_estimators=10, featuresYO__pca__n_components=2, featuresYO__univ_select__k=1 \n",
            "[CV]  RandomFo__max_depth=8, RandomFo__max_features=log2, RandomFo__n_estimators=10, featuresYO__pca__n_components=2, featuresYO__univ_select__k=1, score=0.730, total=   0.0s\n",
            "[CV] RandomFo__max_depth=8, RandomFo__max_features=log2, RandomFo__n_estimators=10, featuresYO__pca__n_components=2, featuresYO__univ_select__k=2 \n",
            "[CV]  RandomFo__max_depth=8, RandomFo__max_features=log2, RandomFo__n_estimators=10, featuresYO__pca__n_components=2, featuresYO__univ_select__k=2, score=0.716, total=   0.0s\n",
            "[CV] RandomFo__max_depth=8, RandomFo__max_features=log2, RandomFo__n_estimators=10, featuresYO__pca__n_components=2, featuresYO__univ_select__k=2 \n",
            "[CV]  RandomFo__max_depth=8, RandomFo__max_features=log2, RandomFo__n_estimators=10, featuresYO__pca__n_components=2, featuresYO__univ_select__k=2, score=0.722, total=   0.0s\n",
            "[CV] RandomFo__max_depth=8, RandomFo__max_features=log2, RandomFo__n_estimators=10, featuresYO__pca__n_components=2, featuresYO__univ_select__k=2 \n",
            "[CV]  RandomFo__max_depth=8, RandomFo__max_features=log2, RandomFo__n_estimators=10, featuresYO__pca__n_components=2, featuresYO__univ_select__k=2, score=0.739, total=   0.0s\n",
            "[CV] RandomFo__max_depth=8, RandomFo__max_features=log2, RandomFo__n_estimators=10, featuresYO__pca__n_components=2, featuresYO__univ_select__k=2 \n",
            "[CV]  RandomFo__max_depth=8, RandomFo__max_features=log2, RandomFo__n_estimators=10, featuresYO__pca__n_components=2, featuresYO__univ_select__k=2, score=0.757, total=   0.0s\n",
            "[CV] RandomFo__max_depth=8, RandomFo__max_features=log2, RandomFo__n_estimators=10, featuresYO__pca__n_components=2, featuresYO__univ_select__k=2 \n",
            "[CV]  RandomFo__max_depth=8, RandomFo__max_features=log2, RandomFo__n_estimators=10, featuresYO__pca__n_components=2, featuresYO__univ_select__k=2, score=0.704, total=   0.0s\n",
            "[CV] RandomFo__max_depth=8, RandomFo__max_features=log2, RandomFo__n_estimators=10, featuresYO__pca__n_components=2, featuresYO__univ_select__k=3 \n",
            "[CV]  RandomFo__max_depth=8, RandomFo__max_features=log2, RandomFo__n_estimators=10, featuresYO__pca__n_components=2, featuresYO__univ_select__k=3, score=0.750, total=   0.0s\n",
            "[CV] RandomFo__max_depth=8, RandomFo__max_features=log2, RandomFo__n_estimators=10, featuresYO__pca__n_components=2, featuresYO__univ_select__k=3 \n",
            "[CV]  RandomFo__max_depth=8, RandomFo__max_features=log2, RandomFo__n_estimators=10, featuresYO__pca__n_components=2, featuresYO__univ_select__k=3, score=0.774, total=   0.0s\n",
            "[CV] RandomFo__max_depth=8, RandomFo__max_features=log2, RandomFo__n_estimators=10, featuresYO__pca__n_components=2, featuresYO__univ_select__k=3 \n",
            "[CV]  RandomFo__max_depth=8, RandomFo__max_features=log2, RandomFo__n_estimators=10, featuresYO__pca__n_components=2, featuresYO__univ_select__k=3, score=0.730, total=   0.0s\n",
            "[CV] RandomFo__max_depth=8, RandomFo__max_features=log2, RandomFo__n_estimators=10, featuresYO__pca__n_components=2, featuresYO__univ_select__k=3 \n",
            "[CV]  RandomFo__max_depth=8, RandomFo__max_features=log2, RandomFo__n_estimators=10, featuresYO__pca__n_components=2, featuresYO__univ_select__k=3, score=0.791, total=   0.0s\n",
            "[CV] RandomFo__max_depth=8, RandomFo__max_features=log2, RandomFo__n_estimators=10, featuresYO__pca__n_components=2, featuresYO__univ_select__k=3 \n",
            "[CV]  RandomFo__max_depth=8, RandomFo__max_features=log2, RandomFo__n_estimators=10, featuresYO__pca__n_components=2, featuresYO__univ_select__k=3, score=0.687, total=   0.0s\n",
            "[CV] RandomFo__max_depth=8, RandomFo__max_features=log2, RandomFo__n_estimators=10, featuresYO__pca__n_components=3, featuresYO__univ_select__k=1 \n",
            "[CV]  RandomFo__max_depth=8, RandomFo__max_features=log2, RandomFo__n_estimators=10, featuresYO__pca__n_components=3, featuresYO__univ_select__k=1, score=0.776, total=   0.0s\n",
            "[CV] RandomFo__max_depth=8, RandomFo__max_features=log2, RandomFo__n_estimators=10, featuresYO__pca__n_components=3, featuresYO__univ_select__k=1 \n",
            "[CV]  RandomFo__max_depth=8, RandomFo__max_features=log2, RandomFo__n_estimators=10, featuresYO__pca__n_components=3, featuresYO__univ_select__k=1, score=0.757, total=   0.0s\n",
            "[CV] RandomFo__max_depth=8, RandomFo__max_features=log2, RandomFo__n_estimators=10, featuresYO__pca__n_components=3, featuresYO__univ_select__k=1 \n",
            "[CV]  RandomFo__max_depth=8, RandomFo__max_features=log2, RandomFo__n_estimators=10, featuresYO__pca__n_components=3, featuresYO__univ_select__k=1, score=0.748, total=   0.0s\n",
            "[CV] RandomFo__max_depth=8, RandomFo__max_features=log2, RandomFo__n_estimators=10, featuresYO__pca__n_components=3, featuresYO__univ_select__k=1 \n",
            "[CV]  RandomFo__max_depth=8, RandomFo__max_features=log2, RandomFo__n_estimators=10, featuresYO__pca__n_components=3, featuresYO__univ_select__k=1, score=0.713, total=   0.0s\n",
            "[CV] RandomFo__max_depth=8, RandomFo__max_features=log2, RandomFo__n_estimators=10, featuresYO__pca__n_components=3, featuresYO__univ_select__k=1 \n",
            "[CV]  RandomFo__max_depth=8, RandomFo__max_features=log2, RandomFo__n_estimators=10, featuresYO__pca__n_components=3, featuresYO__univ_select__k=1, score=0.713, total=   0.0s\n",
            "[CV] RandomFo__max_depth=8, RandomFo__max_features=log2, RandomFo__n_estimators=10, featuresYO__pca__n_components=3, featuresYO__univ_select__k=2 \n",
            "[CV]  RandomFo__max_depth=8, RandomFo__max_features=log2, RandomFo__n_estimators=10, featuresYO__pca__n_components=3, featuresYO__univ_select__k=2, score=0.767, total=   0.0s\n",
            "[CV] RandomFo__max_depth=8, RandomFo__max_features=log2, RandomFo__n_estimators=10, featuresYO__pca__n_components=3, featuresYO__univ_select__k=2 \n",
            "[CV]  RandomFo__max_depth=8, RandomFo__max_features=log2, RandomFo__n_estimators=10, featuresYO__pca__n_components=3, featuresYO__univ_select__k=2, score=0.757, total=   0.0s\n",
            "[CV] RandomFo__max_depth=8, RandomFo__max_features=log2, RandomFo__n_estimators=10, featuresYO__pca__n_components=3, featuresYO__univ_select__k=2 \n",
            "[CV]  RandomFo__max_depth=8, RandomFo__max_features=log2, RandomFo__n_estimators=10, featuresYO__pca__n_components=3, featuresYO__univ_select__k=2, score=0.748, total=   0.0s\n",
            "[CV] RandomFo__max_depth=8, RandomFo__max_features=log2, RandomFo__n_estimators=10, featuresYO__pca__n_components=3, featuresYO__univ_select__k=2 \n",
            "[CV]  RandomFo__max_depth=8, RandomFo__max_features=log2, RandomFo__n_estimators=10, featuresYO__pca__n_components=3, featuresYO__univ_select__k=2, score=0.722, total=   0.0s\n",
            "[CV] RandomFo__max_depth=8, RandomFo__max_features=log2, RandomFo__n_estimators=10, featuresYO__pca__n_components=3, featuresYO__univ_select__k=2 \n",
            "[CV]  RandomFo__max_depth=8, RandomFo__max_features=log2, RandomFo__n_estimators=10, featuresYO__pca__n_components=3, featuresYO__univ_select__k=2, score=0.722, total=   0.0s\n",
            "[CV] RandomFo__max_depth=8, RandomFo__max_features=log2, RandomFo__n_estimators=10, featuresYO__pca__n_components=3, featuresYO__univ_select__k=3 \n",
            "[CV]  RandomFo__max_depth=8, RandomFo__max_features=log2, RandomFo__n_estimators=10, featuresYO__pca__n_components=3, featuresYO__univ_select__k=3, score=0.750, total=   0.0s\n",
            "[CV] RandomFo__max_depth=8, RandomFo__max_features=log2, RandomFo__n_estimators=10, featuresYO__pca__n_components=3, featuresYO__univ_select__k=3 \n",
            "[CV]  RandomFo__max_depth=8, RandomFo__max_features=log2, RandomFo__n_estimators=10, featuresYO__pca__n_components=3, featuresYO__univ_select__k=3, score=0.730, total=   0.0s\n",
            "[CV] RandomFo__max_depth=8, RandomFo__max_features=log2, RandomFo__n_estimators=10, featuresYO__pca__n_components=3, featuresYO__univ_select__k=3 \n",
            "[CV]  RandomFo__max_depth=8, RandomFo__max_features=log2, RandomFo__n_estimators=10, featuresYO__pca__n_components=3, featuresYO__univ_select__k=3, score=0.730, total=   0.0s\n",
            "[CV] RandomFo__max_depth=8, RandomFo__max_features=log2, RandomFo__n_estimators=10, featuresYO__pca__n_components=3, featuresYO__univ_select__k=3 \n",
            "[CV]  RandomFo__max_depth=8, RandomFo__max_features=log2, RandomFo__n_estimators=10, featuresYO__pca__n_components=3, featuresYO__univ_select__k=3, score=0.722, total=   0.0s\n",
            "[CV] RandomFo__max_depth=8, RandomFo__max_features=log2, RandomFo__n_estimators=10, featuresYO__pca__n_components=3, featuresYO__univ_select__k=3 \n",
            "[CV]  RandomFo__max_depth=8, RandomFo__max_features=log2, RandomFo__n_estimators=10, featuresYO__pca__n_components=3, featuresYO__univ_select__k=3, score=0.678, total=   0.0s\n",
            "[CV] RandomFo__max_depth=8, RandomFo__max_features=log2, RandomFo__n_estimators=100, featuresYO__pca__n_components=1, featuresYO__univ_select__k=1 \n",
            "[CV]  RandomFo__max_depth=8, RandomFo__max_features=log2, RandomFo__n_estimators=100, featuresYO__pca__n_components=1, featuresYO__univ_select__k=1, score=0.767, total=   0.1s\n",
            "[CV] RandomFo__max_depth=8, RandomFo__max_features=log2, RandomFo__n_estimators=100, featuresYO__pca__n_components=1, featuresYO__univ_select__k=1 \n",
            "[CV]  RandomFo__max_depth=8, RandomFo__max_features=log2, RandomFo__n_estimators=100, featuresYO__pca__n_components=1, featuresYO__univ_select__k=1, score=0.783, total=   0.1s\n",
            "[CV] RandomFo__max_depth=8, RandomFo__max_features=log2, RandomFo__n_estimators=100, featuresYO__pca__n_components=1, featuresYO__univ_select__k=1 \n",
            "[CV]  RandomFo__max_depth=8, RandomFo__max_features=log2, RandomFo__n_estimators=100, featuresYO__pca__n_components=1, featuresYO__univ_select__k=1, score=0.748, total=   0.2s\n",
            "[CV] RandomFo__max_depth=8, RandomFo__max_features=log2, RandomFo__n_estimators=100, featuresYO__pca__n_components=1, featuresYO__univ_select__k=1 \n",
            "[CV]  RandomFo__max_depth=8, RandomFo__max_features=log2, RandomFo__n_estimators=100, featuresYO__pca__n_components=1, featuresYO__univ_select__k=1, score=0.783, total=   0.1s\n",
            "[CV] RandomFo__max_depth=8, RandomFo__max_features=log2, RandomFo__n_estimators=100, featuresYO__pca__n_components=1, featuresYO__univ_select__k=1 \n",
            "[CV]  RandomFo__max_depth=8, RandomFo__max_features=log2, RandomFo__n_estimators=100, featuresYO__pca__n_components=1, featuresYO__univ_select__k=1, score=0.722, total=   0.2s\n",
            "[CV] RandomFo__max_depth=8, RandomFo__max_features=log2, RandomFo__n_estimators=100, featuresYO__pca__n_components=1, featuresYO__univ_select__k=2 \n",
            "[CV]  RandomFo__max_depth=8, RandomFo__max_features=log2, RandomFo__n_estimators=100, featuresYO__pca__n_components=1, featuresYO__univ_select__k=2, score=0.733, total=   0.1s\n",
            "[CV] RandomFo__max_depth=8, RandomFo__max_features=log2, RandomFo__n_estimators=100, featuresYO__pca__n_components=1, featuresYO__univ_select__k=2 \n",
            "[CV]  RandomFo__max_depth=8, RandomFo__max_features=log2, RandomFo__n_estimators=100, featuresYO__pca__n_components=1, featuresYO__univ_select__k=2, score=0.730, total=   0.1s\n",
            "[CV] RandomFo__max_depth=8, RandomFo__max_features=log2, RandomFo__n_estimators=100, featuresYO__pca__n_components=1, featuresYO__univ_select__k=2 \n",
            "[CV]  RandomFo__max_depth=8, RandomFo__max_features=log2, RandomFo__n_estimators=100, featuresYO__pca__n_components=1, featuresYO__univ_select__k=2, score=0.783, total=   0.1s\n",
            "[CV] RandomFo__max_depth=8, RandomFo__max_features=log2, RandomFo__n_estimators=100, featuresYO__pca__n_components=1, featuresYO__univ_select__k=2 \n",
            "[CV]  RandomFo__max_depth=8, RandomFo__max_features=log2, RandomFo__n_estimators=100, featuresYO__pca__n_components=1, featuresYO__univ_select__k=2, score=0.765, total=   0.2s\n",
            "[CV] RandomFo__max_depth=8, RandomFo__max_features=log2, RandomFo__n_estimators=100, featuresYO__pca__n_components=1, featuresYO__univ_select__k=2 \n",
            "[CV]  RandomFo__max_depth=8, RandomFo__max_features=log2, RandomFo__n_estimators=100, featuresYO__pca__n_components=1, featuresYO__univ_select__k=2, score=0.730, total=   0.1s\n",
            "[CV] RandomFo__max_depth=8, RandomFo__max_features=log2, RandomFo__n_estimators=100, featuresYO__pca__n_components=1, featuresYO__univ_select__k=3 \n",
            "[CV]  RandomFo__max_depth=8, RandomFo__max_features=log2, RandomFo__n_estimators=100, featuresYO__pca__n_components=1, featuresYO__univ_select__k=3, score=0.767, total=   0.2s\n",
            "[CV] RandomFo__max_depth=8, RandomFo__max_features=log2, RandomFo__n_estimators=100, featuresYO__pca__n_components=1, featuresYO__univ_select__k=3 \n",
            "[CV]  RandomFo__max_depth=8, RandomFo__max_features=log2, RandomFo__n_estimators=100, featuresYO__pca__n_components=1, featuresYO__univ_select__k=3, score=0.739, total=   0.2s\n",
            "[CV] RandomFo__max_depth=8, RandomFo__max_features=log2, RandomFo__n_estimators=100, featuresYO__pca__n_components=1, featuresYO__univ_select__k=3 \n",
            "[CV]  RandomFo__max_depth=8, RandomFo__max_features=log2, RandomFo__n_estimators=100, featuresYO__pca__n_components=1, featuresYO__univ_select__k=3, score=0.765, total=   0.2s\n",
            "[CV] RandomFo__max_depth=8, RandomFo__max_features=log2, RandomFo__n_estimators=100, featuresYO__pca__n_components=1, featuresYO__univ_select__k=3 \n",
            "[CV]  RandomFo__max_depth=8, RandomFo__max_features=log2, RandomFo__n_estimators=100, featuresYO__pca__n_components=1, featuresYO__univ_select__k=3, score=0.730, total=   0.2s\n",
            "[CV] RandomFo__max_depth=8, RandomFo__max_features=log2, RandomFo__n_estimators=100, featuresYO__pca__n_components=1, featuresYO__univ_select__k=3 \n",
            "[CV]  RandomFo__max_depth=8, RandomFo__max_features=log2, RandomFo__n_estimators=100, featuresYO__pca__n_components=1, featuresYO__univ_select__k=3, score=0.704, total=   0.2s\n",
            "[CV] RandomFo__max_depth=8, RandomFo__max_features=log2, RandomFo__n_estimators=100, featuresYO__pca__n_components=2, featuresYO__univ_select__k=1 \n",
            "[CV]  RandomFo__max_depth=8, RandomFo__max_features=log2, RandomFo__n_estimators=100, featuresYO__pca__n_components=2, featuresYO__univ_select__k=1, score=0.733, total=   0.1s\n",
            "[CV] RandomFo__max_depth=8, RandomFo__max_features=log2, RandomFo__n_estimators=100, featuresYO__pca__n_components=2, featuresYO__univ_select__k=1 \n",
            "[CV]  RandomFo__max_depth=8, RandomFo__max_features=log2, RandomFo__n_estimators=100, featuresYO__pca__n_components=2, featuresYO__univ_select__k=1, score=0.748, total=   0.1s\n",
            "[CV] RandomFo__max_depth=8, RandomFo__max_features=log2, RandomFo__n_estimators=100, featuresYO__pca__n_components=2, featuresYO__univ_select__k=1 \n",
            "[CV]  RandomFo__max_depth=8, RandomFo__max_features=log2, RandomFo__n_estimators=100, featuresYO__pca__n_components=2, featuresYO__univ_select__k=1, score=0.757, total=   0.2s\n",
            "[CV] RandomFo__max_depth=8, RandomFo__max_features=log2, RandomFo__n_estimators=100, featuresYO__pca__n_components=2, featuresYO__univ_select__k=1 \n",
            "[CV]  RandomFo__max_depth=8, RandomFo__max_features=log2, RandomFo__n_estimators=100, featuresYO__pca__n_components=2, featuresYO__univ_select__k=1, score=0.774, total=   0.1s\n",
            "[CV] RandomFo__max_depth=8, RandomFo__max_features=log2, RandomFo__n_estimators=100, featuresYO__pca__n_components=2, featuresYO__univ_select__k=1 \n",
            "[CV]  RandomFo__max_depth=8, RandomFo__max_features=log2, RandomFo__n_estimators=100, featuresYO__pca__n_components=2, featuresYO__univ_select__k=1, score=0.730, total=   0.1s\n",
            "[CV] RandomFo__max_depth=8, RandomFo__max_features=log2, RandomFo__n_estimators=100, featuresYO__pca__n_components=2, featuresYO__univ_select__k=2 \n",
            "[CV]  RandomFo__max_depth=8, RandomFo__max_features=log2, RandomFo__n_estimators=100, featuresYO__pca__n_components=2, featuresYO__univ_select__k=2, score=0.716, total=   0.2s\n",
            "[CV] RandomFo__max_depth=8, RandomFo__max_features=log2, RandomFo__n_estimators=100, featuresYO__pca__n_components=2, featuresYO__univ_select__k=2 \n",
            "[CV]  RandomFo__max_depth=8, RandomFo__max_features=log2, RandomFo__n_estimators=100, featuresYO__pca__n_components=2, featuresYO__univ_select__k=2, score=0.739, total=   0.2s\n",
            "[CV] RandomFo__max_depth=8, RandomFo__max_features=log2, RandomFo__n_estimators=100, featuresYO__pca__n_components=2, featuresYO__univ_select__k=2 \n",
            "[CV]  RandomFo__max_depth=8, RandomFo__max_features=log2, RandomFo__n_estimators=100, featuresYO__pca__n_components=2, featuresYO__univ_select__k=2, score=0.757, total=   0.2s\n",
            "[CV] RandomFo__max_depth=8, RandomFo__max_features=log2, RandomFo__n_estimators=100, featuresYO__pca__n_components=2, featuresYO__univ_select__k=2 \n",
            "[CV]  RandomFo__max_depth=8, RandomFo__max_features=log2, RandomFo__n_estimators=100, featuresYO__pca__n_components=2, featuresYO__univ_select__k=2, score=0.748, total=   0.2s\n",
            "[CV] RandomFo__max_depth=8, RandomFo__max_features=log2, RandomFo__n_estimators=100, featuresYO__pca__n_components=2, featuresYO__univ_select__k=2 \n",
            "[CV]  RandomFo__max_depth=8, RandomFo__max_features=log2, RandomFo__n_estimators=100, featuresYO__pca__n_components=2, featuresYO__univ_select__k=2, score=0.678, total=   0.2s\n",
            "[CV] RandomFo__max_depth=8, RandomFo__max_features=log2, RandomFo__n_estimators=100, featuresYO__pca__n_components=2, featuresYO__univ_select__k=3 \n",
            "[CV]  RandomFo__max_depth=8, RandomFo__max_features=log2, RandomFo__n_estimators=100, featuresYO__pca__n_components=2, featuresYO__univ_select__k=3, score=0.784, total=   0.2s\n",
            "[CV] RandomFo__max_depth=8, RandomFo__max_features=log2, RandomFo__n_estimators=100, featuresYO__pca__n_components=2, featuresYO__univ_select__k=3 \n",
            "[CV]  RandomFo__max_depth=8, RandomFo__max_features=log2, RandomFo__n_estimators=100, featuresYO__pca__n_components=2, featuresYO__univ_select__k=3, score=0.713, total=   0.2s\n",
            "[CV] RandomFo__max_depth=8, RandomFo__max_features=log2, RandomFo__n_estimators=100, featuresYO__pca__n_components=2, featuresYO__univ_select__k=3 \n",
            "[CV]  RandomFo__max_depth=8, RandomFo__max_features=log2, RandomFo__n_estimators=100, featuresYO__pca__n_components=2, featuresYO__univ_select__k=3, score=0.748, total=   0.2s\n",
            "[CV] RandomFo__max_depth=8, RandomFo__max_features=log2, RandomFo__n_estimators=100, featuresYO__pca__n_components=2, featuresYO__univ_select__k=3 \n",
            "[CV]  RandomFo__max_depth=8, RandomFo__max_features=log2, RandomFo__n_estimators=100, featuresYO__pca__n_components=2, featuresYO__univ_select__k=3, score=0.730, total=   0.2s\n",
            "[CV] RandomFo__max_depth=8, RandomFo__max_features=log2, RandomFo__n_estimators=100, featuresYO__pca__n_components=2, featuresYO__univ_select__k=3 \n",
            "[CV]  RandomFo__max_depth=8, RandomFo__max_features=log2, RandomFo__n_estimators=100, featuresYO__pca__n_components=2, featuresYO__univ_select__k=3, score=0.678, total=   0.2s\n",
            "[CV] RandomFo__max_depth=8, RandomFo__max_features=log2, RandomFo__n_estimators=100, featuresYO__pca__n_components=3, featuresYO__univ_select__k=1 \n",
            "[CV]  RandomFo__max_depth=8, RandomFo__max_features=log2, RandomFo__n_estimators=100, featuresYO__pca__n_components=3, featuresYO__univ_select__k=1, score=0.793, total=   0.2s\n",
            "[CV] RandomFo__max_depth=8, RandomFo__max_features=log2, RandomFo__n_estimators=100, featuresYO__pca__n_components=3, featuresYO__univ_select__k=1 \n",
            "[CV]  RandomFo__max_depth=8, RandomFo__max_features=log2, RandomFo__n_estimators=100, featuresYO__pca__n_components=3, featuresYO__univ_select__k=1, score=0.765, total=   0.2s\n",
            "[CV] RandomFo__max_depth=8, RandomFo__max_features=log2, RandomFo__n_estimators=100, featuresYO__pca__n_components=3, featuresYO__univ_select__k=1 \n",
            "[CV]  RandomFo__max_depth=8, RandomFo__max_features=log2, RandomFo__n_estimators=100, featuresYO__pca__n_components=3, featuresYO__univ_select__k=1, score=0.730, total=   0.2s\n",
            "[CV] RandomFo__max_depth=8, RandomFo__max_features=log2, RandomFo__n_estimators=100, featuresYO__pca__n_components=3, featuresYO__univ_select__k=1 \n",
            "[CV]  RandomFo__max_depth=8, RandomFo__max_features=log2, RandomFo__n_estimators=100, featuresYO__pca__n_components=3, featuresYO__univ_select__k=1, score=0.774, total=   0.2s\n",
            "[CV] RandomFo__max_depth=8, RandomFo__max_features=log2, RandomFo__n_estimators=100, featuresYO__pca__n_components=3, featuresYO__univ_select__k=1 \n",
            "[CV]  RandomFo__max_depth=8, RandomFo__max_features=log2, RandomFo__n_estimators=100, featuresYO__pca__n_components=3, featuresYO__univ_select__k=1, score=0.722, total=   0.2s\n",
            "[CV] RandomFo__max_depth=8, RandomFo__max_features=log2, RandomFo__n_estimators=100, featuresYO__pca__n_components=3, featuresYO__univ_select__k=2 \n",
            "[CV]  RandomFo__max_depth=8, RandomFo__max_features=log2, RandomFo__n_estimators=100, featuresYO__pca__n_components=3, featuresYO__univ_select__k=2, score=0.759, total=   0.2s\n",
            "[CV] RandomFo__max_depth=8, RandomFo__max_features=log2, RandomFo__n_estimators=100, featuresYO__pca__n_components=3, featuresYO__univ_select__k=2 \n",
            "[CV]  RandomFo__max_depth=8, RandomFo__max_features=log2, RandomFo__n_estimators=100, featuresYO__pca__n_components=3, featuresYO__univ_select__k=2, score=0.774, total=   0.2s\n",
            "[CV] RandomFo__max_depth=8, RandomFo__max_features=log2, RandomFo__n_estimators=100, featuresYO__pca__n_components=3, featuresYO__univ_select__k=2 \n",
            "[CV]  RandomFo__max_depth=8, RandomFo__max_features=log2, RandomFo__n_estimators=100, featuresYO__pca__n_components=3, featuresYO__univ_select__k=2, score=0.739, total=   0.2s\n",
            "[CV] RandomFo__max_depth=8, RandomFo__max_features=log2, RandomFo__n_estimators=100, featuresYO__pca__n_components=3, featuresYO__univ_select__k=2 \n",
            "[CV]  RandomFo__max_depth=8, RandomFo__max_features=log2, RandomFo__n_estimators=100, featuresYO__pca__n_components=3, featuresYO__univ_select__k=2, score=0.748, total=   0.2s\n",
            "[CV] RandomFo__max_depth=8, RandomFo__max_features=log2, RandomFo__n_estimators=100, featuresYO__pca__n_components=3, featuresYO__univ_select__k=2 \n",
            "[CV]  RandomFo__max_depth=8, RandomFo__max_features=log2, RandomFo__n_estimators=100, featuresYO__pca__n_components=3, featuresYO__univ_select__k=2, score=0.722, total=   0.2s\n",
            "[CV] RandomFo__max_depth=8, RandomFo__max_features=log2, RandomFo__n_estimators=100, featuresYO__pca__n_components=3, featuresYO__univ_select__k=3 \n",
            "[CV]  RandomFo__max_depth=8, RandomFo__max_features=log2, RandomFo__n_estimators=100, featuresYO__pca__n_components=3, featuresYO__univ_select__k=3, score=0.784, total=   0.2s\n",
            "[CV] RandomFo__max_depth=8, RandomFo__max_features=log2, RandomFo__n_estimators=100, featuresYO__pca__n_components=3, featuresYO__univ_select__k=3 \n",
            "[CV]  RandomFo__max_depth=8, RandomFo__max_features=log2, RandomFo__n_estimators=100, featuresYO__pca__n_components=3, featuresYO__univ_select__k=3, score=0.748, total=   0.2s\n",
            "[CV] RandomFo__max_depth=8, RandomFo__max_features=log2, RandomFo__n_estimators=100, featuresYO__pca__n_components=3, featuresYO__univ_select__k=3 \n",
            "[CV]  RandomFo__max_depth=8, RandomFo__max_features=log2, RandomFo__n_estimators=100, featuresYO__pca__n_components=3, featuresYO__univ_select__k=3, score=0.757, total=   0.2s\n",
            "[CV] RandomFo__max_depth=8, RandomFo__max_features=log2, RandomFo__n_estimators=100, featuresYO__pca__n_components=3, featuresYO__univ_select__k=3 \n",
            "[CV]  RandomFo__max_depth=8, RandomFo__max_features=log2, RandomFo__n_estimators=100, featuresYO__pca__n_components=3, featuresYO__univ_select__k=3, score=0.748, total=   0.2s\n",
            "[CV] RandomFo__max_depth=8, RandomFo__max_features=log2, RandomFo__n_estimators=100, featuresYO__pca__n_components=3, featuresYO__univ_select__k=3 \n",
            "[CV]  RandomFo__max_depth=8, RandomFo__max_features=log2, RandomFo__n_estimators=100, featuresYO__pca__n_components=3, featuresYO__univ_select__k=3, score=0.757, total=   0.2s\n",
            "[0.14206201 0.26137431 0.08332306 0.09428029 0.12509846 0.10249635\n",
            " 0.10901708 0.08234843]\n"
          ]
        },
        {
          "output_type": "stream",
          "name": "stderr",
          "text": [
            "[Parallel(n_jobs=1)]: Done 1350 out of 1350 | elapsed:  2.0min finished\n"
          ]
        }
      ]
    },
    {
      "cell_type": "code",
      "metadata": {
        "id": "RTQZaxwQTBGM"
      },
      "source": [
        "grid_search.best_params_"
      ],
      "execution_count": null,
      "outputs": []
    }
  ]
}