{
  "nbformat": 4,
  "nbformat_minor": 0,
  "metadata": {
    "kernelspec": {
      "display_name": "Python 3",
      "language": "python",
      "name": "python3"
    },
    "language_info": {
      "codemirror_mode": {
        "name": "ipython",
        "version": 3
      },
      "file_extension": ".py",
      "mimetype": "text/x-python",
      "name": "python",
      "nbconvert_exporter": "python",
      "pygments_lexer": "ipython3",
      "version": "3.8.5"
    },
    "toc": {
      "base_numbering": 1,
      "nav_menu": {},
      "number_sections": true,
      "sideBar": true,
      "skip_h1_title": false,
      "title_cell": "Table of Contents",
      "title_sidebar": "Contents",
      "toc_cell": false,
      "toc_position": {},
      "toc_section_display": true,
      "toc_window_display": false
    },
    "varInspector": {
      "cols": {
        "lenName": 16,
        "lenType": 16,
        "lenVar": 40
      },
      "kernels_config": {
        "python": {
          "delete_cmd_postfix": "",
          "delete_cmd_prefix": "del ",
          "library": "var_list.py",
          "varRefreshCmd": "print(var_dic_list())"
        },
        "r": {
          "delete_cmd_postfix": ") ",
          "delete_cmd_prefix": "rm(",
          "library": "var_list.r",
          "varRefreshCmd": "cat(var_dic_list()) "
        }
      },
      "types_to_exclude": [
        "module",
        "function",
        "builtin_function_or_method",
        "instance",
        "_Feature"
      ],
      "window_display": false
    },
    "colab": {
      "name": "Pickle_and_Joblib_exercise.ipynb",
      "provenance": []
    }
  },
  "cells": [
    {
      "cell_type": "markdown",
      "metadata": {
        "id": "Gl9TYmJ-ABJH"
      },
      "source": [
        "# Pickle & Joblib exercise\n",
        "____________________________"
      ]
    },
    {
      "cell_type": "code",
      "metadata": {
        "ExecuteTime": {
          "end_time": "2020-04-27T12:33:07.974787Z",
          "start_time": "2020-04-27T12:33:07.971202Z"
        },
        "id": "zTdLAB48ABJJ"
      },
      "source": [
        "# import numpy\n",
        "import numpy as np "
      ],
      "execution_count": null,
      "outputs": []
    },
    {
      "cell_type": "code",
      "metadata": {
        "ExecuteTime": {
          "end_time": "2020-04-27T12:33:09.150112Z",
          "start_time": "2020-04-27T12:33:08.328246Z"
        },
        "id": "yOPdPVcHABJK"
      },
      "source": [
        " # Load iris dataset from sklearn.datasets\n",
        "from sklearn.datasets import load_iris \n",
        "iris = load_iris() "
      ],
      "execution_count": null,
      "outputs": []
    },
    {
      "cell_type": "markdown",
      "metadata": {
        "id": "DfNYLG9jABJK"
      },
      "source": [
        "## Go through the following tasks to get familar with the syntax of saving your models.\n",
        "_____________________"
      ]
    },
    {
      "cell_type": "markdown",
      "metadata": {
        "id": "2Zn8orrJABJK"
      },
      "source": [
        "**Task 1: Create x, y from the iris dataset.**"
      ]
    },
    {
      "cell_type": "code",
      "metadata": {
        "ExecuteTime": {
          "end_time": "2020-04-27T12:33:09.226257Z",
          "start_time": "2020-04-27T12:33:09.222486Z"
        },
        "id": "QuaWw3hBABJK"
      },
      "source": [
        ""
      ],
      "execution_count": null,
      "outputs": []
    },
    {
      "cell_type": "markdown",
      "metadata": {
        "id": "Eb4ivRW5ABJK"
      },
      "source": [
        "**Task 2: Split the dataset into a train and test set.**"
      ]
    },
    {
      "cell_type": "code",
      "metadata": {
        "ExecuteTime": {
          "end_time": "2020-04-27T12:33:09.367381Z",
          "start_time": "2020-04-27T12:33:09.337912Z"
        },
        "id": "ldunzBavABJK"
      },
      "source": [
        ""
      ],
      "execution_count": null,
      "outputs": []
    },
    {
      "cell_type": "markdown",
      "metadata": {
        "id": "DbtavU_tABJK"
      },
      "source": [
        "**Task 3: Import `KNeighborsClassifier` model from sklearn.**"
      ]
    },
    {
      "cell_type": "code",
      "metadata": {
        "ExecuteTime": {
          "end_time": "2020-04-27T12:33:09.606733Z",
          "start_time": "2020-04-27T12:33:09.540574Z"
        },
        "id": "spYUzSCgABJL"
      },
      "source": [
        ""
      ],
      "execution_count": null,
      "outputs": []
    },
    {
      "cell_type": "markdown",
      "metadata": {
        "id": "YdqBM-ZbABJL"
      },
      "source": [
        "**Task 4: Create KNeighborsClassifier model with n_neighbors = 3.**"
      ]
    },
    {
      "cell_type": "code",
      "metadata": {
        "ExecuteTime": {
          "end_time": "2020-04-27T12:33:09.921937Z",
          "start_time": "2020-04-27T12:33:09.916013Z"
        },
        "id": "7gLZgPvHABJL"
      },
      "source": [
        ""
      ],
      "execution_count": null,
      "outputs": []
    },
    {
      "cell_type": "markdown",
      "metadata": {
        "id": "LTjFV5O2ABJL"
      },
      "source": [
        "**Task 5: Train model**"
      ]
    },
    {
      "cell_type": "code",
      "metadata": {
        "ExecuteTime": {
          "end_time": "2020-04-27T12:33:10.277672Z",
          "start_time": "2020-04-27T12:33:10.259522Z"
        },
        "id": "dipM-AdsABJL"
      },
      "source": [
        ""
      ],
      "execution_count": null,
      "outputs": []
    },
    {
      "cell_type": "markdown",
      "metadata": {
        "id": "I96OygI8ABJL"
      },
      "source": [
        "________________________\n",
        "#### Pickle"
      ]
    },
    {
      "cell_type": "markdown",
      "metadata": {
        "id": "9xdIW05DABJL"
      },
      "source": [
        "**Task 6: import pickle**"
      ]
    },
    {
      "cell_type": "code",
      "metadata": {
        "ExecuteTime": {
          "end_time": "2020-04-27T12:33:10.665175Z",
          "start_time": "2020-04-27T12:33:10.656352Z"
        },
        "id": "yXzy6pbpABJL"
      },
      "source": [
        ""
      ],
      "execution_count": null,
      "outputs": []
    },
    {
      "cell_type": "markdown",
      "metadata": {
        "id": "IZNeksXSABJM"
      },
      "source": [
        "**Task 7: Save the trained model as a pickle file.**"
      ]
    },
    {
      "cell_type": "code",
      "metadata": {
        "ExecuteTime": {
          "end_time": "2020-04-27T12:33:11.074246Z",
          "start_time": "2020-04-27T12:33:11.070272Z"
        },
        "id": "B1absNScABJM"
      },
      "source": [
        ""
      ],
      "execution_count": null,
      "outputs": []
    },
    {
      "cell_type": "markdown",
      "metadata": {
        "id": "vZSve0erABJM"
      },
      "source": [
        "**Task 8: Load the pickle file as a new sklearn model.**"
      ]
    },
    {
      "cell_type": "code",
      "metadata": {
        "ExecuteTime": {
          "end_time": "2020-04-27T12:33:11.440727Z",
          "start_time": "2020-04-27T12:33:11.434953Z"
        },
        "id": "qsaPy-XKABJM"
      },
      "source": [
        ""
      ],
      "execution_count": null,
      "outputs": []
    },
    {
      "cell_type": "markdown",
      "metadata": {
        "id": "cfAkgv0DABJM"
      },
      "source": [
        "**Task 9: Use the new model to make predictions.**"
      ]
    },
    {
      "cell_type": "code",
      "metadata": {
        "ExecuteTime": {
          "end_time": "2020-04-27T12:33:11.831619Z",
          "start_time": "2020-04-27T12:33:11.822068Z"
        },
        "id": "DrRiUJbOABJM"
      },
      "source": [
        ""
      ],
      "execution_count": null,
      "outputs": []
    },
    {
      "cell_type": "markdown",
      "metadata": {
        "id": "XGBUTOF3ABJM"
      },
      "source": [
        "_________________________\n",
        "### joblib\n",
        "\n",
        "**Task 10: Import joblib from sklearn.externals**"
      ]
    },
    {
      "cell_type": "code",
      "metadata": {
        "ExecuteTime": {
          "end_time": "2020-04-27T12:33:13.322831Z",
          "start_time": "2020-04-27T12:33:13.313959Z"
        },
        "id": "Pg36A3OvABJN"
      },
      "source": [
        ""
      ],
      "execution_count": null,
      "outputs": []
    },
    {
      "cell_type": "markdown",
      "metadata": {
        "id": "kSfv56cbABJN"
      },
      "source": [
        "**Task 11: Save the model using joblib.**"
      ]
    },
    {
      "cell_type": "code",
      "metadata": {
        "ExecuteTime": {
          "end_time": "2020-04-27T12:33:13.678948Z",
          "start_time": "2020-04-27T12:33:13.667211Z"
        },
        "id": "affYwfL9ABJN"
      },
      "source": [
        ""
      ],
      "execution_count": null,
      "outputs": []
    },
    {
      "cell_type": "markdown",
      "metadata": {
        "id": "n0roEW9LABJN"
      },
      "source": [
        "**Task 12: Load the model from the file.**"
      ]
    },
    {
      "cell_type": "code",
      "metadata": {
        "ExecuteTime": {
          "end_time": "2020-04-27T12:33:14.057130Z",
          "start_time": "2020-04-27T12:33:14.044397Z"
        },
        "id": "i4sB0BPWABJN"
      },
      "source": [
        ""
      ],
      "execution_count": null,
      "outputs": []
    },
    {
      "cell_type": "markdown",
      "metadata": {
        "id": "Us_fvSpCABJN"
      },
      "source": [
        "**Task 13: Use the loaded model to make predictions.**"
      ]
    },
    {
      "cell_type": "code",
      "metadata": {
        "ExecuteTime": {
          "end_time": "2020-04-27T12:33:14.413383Z",
          "start_time": "2020-04-27T12:33:14.401445Z"
        },
        "id": "B_WipPVGABJN"
      },
      "source": [
        ""
      ],
      "execution_count": null,
      "outputs": []
    }
  ]
}