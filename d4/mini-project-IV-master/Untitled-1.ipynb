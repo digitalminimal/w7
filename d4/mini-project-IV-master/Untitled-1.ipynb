{
 "cells": [
  {
   "cell_type": "markdown",
   "metadata": {},
   "source": [
    "mini-project-IV\n",
    "\n",
    "This repo contains instruction for Mini Project IV!!\n",
    "\n",
    "Welcome to the 4th Miniproject. We will, once again, practice supervised learning. In addition to previous tasks and challenges, we will deploy our solution to cloud as API service. We will practice following skills:\n",
    "\n",
    "Data Preparation\n",
    "Feature Engineering\n",
    "Supervised Learning\n",
    "Pipelines\n",
    "Model Persistance\n",
    "Flask - building own API\n",
    "Deployment to Cloud (AWS)\n",
    "Go to the notebook mini-project-IV.ipynb where you can find all instructions. Enjoy!!!"
   ]
  },
  {
   "cell_type": "code",
   "execution_count": null,
   "metadata": {},
   "outputs": [],
   "source": []
  }
 ],
 "metadata": {
  "language_info": {
   "name": "python"
  },
  "orig_nbformat": 4
 },
 "nbformat": 4,
 "nbformat_minor": 2
}
